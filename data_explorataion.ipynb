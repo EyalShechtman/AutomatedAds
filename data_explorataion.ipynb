{
 "cells": [
  {
   "cell_type": "code",
   "execution_count": 4,
   "metadata": {},
   "outputs": [],
   "source": [
    "import pandas as pd\n",
    "\n",
    "df = pd.read_csv('./synthetic-browsing-history/Israel/synthetic-browsing-history-IL_0.csv')"
   ]
  },
  {
   "cell_type": "code",
   "execution_count": 6,
   "metadata": {},
   "outputs": [
    {
     "data": {
      "text/html": [
       "<div>\n",
       "<style scoped>\n",
       "    .dataframe tbody tr th:only-of-type {\n",
       "        vertical-align: middle;\n",
       "    }\n",
       "\n",
       "    .dataframe tbody tr th {\n",
       "        vertical-align: top;\n",
       "    }\n",
       "\n",
       "    .dataframe thead th {\n",
       "        text-align: right;\n",
       "    }\n",
       "</style>\n",
       "<table border=\"1\" class=\"dataframe\">\n",
       "  <thead>\n",
       "    <tr style=\"text-align: right;\">\n",
       "      <th></th>\n",
       "      <th>synthetic_time</th>\n",
       "      <th>synthetic_url</th>\n",
       "      <th>original_scope</th>\n",
       "      <th>original_content</th>\n",
       "      <th>original_country_rank</th>\n",
       "      <th>original_world_rank</th>\n",
       "      <th>original_lang</th>\n",
       "      <th>original_path_bin</th>\n",
       "    </tr>\n",
       "  </thead>\n",
       "  <tbody>\n",
       "    <tr>\n",
       "      <th>0</th>\n",
       "      <td>2024-11-01 09:32:55.373550</td>\n",
       "      <td>https://www.tomsguide.com/computing/vpns/can-y...</td>\n",
       "      <td>Global</td>\n",
       "      <td>Business</td>\n",
       "      <td>-1</td>\n",
       "      <td>10000</td>\n",
       "      <td>eng</td>\n",
       "      <td>50</td>\n",
       "    </tr>\n",
       "    <tr>\n",
       "      <th>1</th>\n",
       "      <td>2024-11-01 10:18:53.105916</td>\n",
       "      <td>https://dev.to/harshdand/react-performance-opt...</td>\n",
       "      <td>Global</td>\n",
       "      <td>Society</td>\n",
       "      <td>-1</td>\n",
       "      <td>10000</td>\n",
       "      <td>eng</td>\n",
       "      <td>-1</td>\n",
       "    </tr>\n",
       "    <tr>\n",
       "      <th>2</th>\n",
       "      <td>2024-11-01 10:19:23.803112</td>\n",
       "      <td>https://www.digitaltrends.com/home-theater/5-t...</td>\n",
       "      <td>Global</td>\n",
       "      <td>Society</td>\n",
       "      <td>500</td>\n",
       "      <td>1000</td>\n",
       "      <td>eng</td>\n",
       "      <td>-1</td>\n",
       "    </tr>\n",
       "    <tr>\n",
       "      <th>3</th>\n",
       "      <td>2024-11-01 10:22:03.663594</td>\n",
       "      <td>https://www.wondershare.com/ai-solutions/busin...</td>\n",
       "      <td>Global</td>\n",
       "      <td>Society</td>\n",
       "      <td>-1</td>\n",
       "      <td>10000</td>\n",
       "      <td>eng</td>\n",
       "      <td>50</td>\n",
       "    </tr>\n",
       "    <tr>\n",
       "      <th>4</th>\n",
       "      <td>2024-11-01 10:22:24.705302</td>\n",
       "      <td>https://www.digitaltrends.com/gaming/destiny-2...</td>\n",
       "      <td>Global</td>\n",
       "      <td>Society</td>\n",
       "      <td>500</td>\n",
       "      <td>1000</td>\n",
       "      <td>eng</td>\n",
       "      <td>-1</td>\n",
       "    </tr>\n",
       "  </tbody>\n",
       "</table>\n",
       "</div>"
      ],
      "text/plain": [
       "               synthetic_time  \\\n",
       "0  2024-11-01 09:32:55.373550   \n",
       "1  2024-11-01 10:18:53.105916   \n",
       "2  2024-11-01 10:19:23.803112   \n",
       "3  2024-11-01 10:22:03.663594   \n",
       "4  2024-11-01 10:22:24.705302   \n",
       "\n",
       "                                       synthetic_url original_scope  \\\n",
       "0  https://www.tomsguide.com/computing/vpns/can-y...         Global   \n",
       "1  https://dev.to/harshdand/react-performance-opt...         Global   \n",
       "2  https://www.digitaltrends.com/home-theater/5-t...         Global   \n",
       "3  https://www.wondershare.com/ai-solutions/busin...         Global   \n",
       "4  https://www.digitaltrends.com/gaming/destiny-2...         Global   \n",
       "\n",
       "  original_content  original_country_rank  original_world_rank original_lang  \\\n",
       "0         Business                     -1                10000           eng   \n",
       "1          Society                     -1                10000           eng   \n",
       "2          Society                    500                 1000           eng   \n",
       "3          Society                     -1                10000           eng   \n",
       "4          Society                    500                 1000           eng   \n",
       "\n",
       "   original_path_bin  \n",
       "0                 50  \n",
       "1                 -1  \n",
       "2                 -1  \n",
       "3                 50  \n",
       "4                 -1  "
      ]
     },
     "execution_count": 6,
     "metadata": {},
     "output_type": "execute_result"
    }
   ],
   "source": [
    "df.head()"
   ]
  },
  {
   "cell_type": "code",
   "execution_count": 9,
   "metadata": {},
   "outputs": [
    {
     "data": {
      "text/plain": [
       "original_content\n",
       "Society     357\n",
       "Shopping    136\n",
       "News         69\n",
       "Business     37\n",
       "Generic      20\n",
       "Name: count, dtype: int64"
      ]
     },
     "execution_count": 9,
     "metadata": {},
     "output_type": "execute_result"
    }
   ],
   "source": [
    "df['original_content'].value_counts()"
   ]
  },
  {
   "cell_type": "code",
   "execution_count": null,
   "metadata": {},
   "outputs": [],
   "source": []
  }
 ],
 "metadata": {
  "kernelspec": {
   "display_name": "Python 3",
   "language": "python",
   "name": "python3"
  },
  "language_info": {
   "codemirror_mode": {
    "name": "ipython",
    "version": 3
   },
   "file_extension": ".py",
   "mimetype": "text/x-python",
   "name": "python",
   "nbconvert_exporter": "python",
   "pygments_lexer": "ipython3",
   "version": "3.9.6"
  }
 },
 "nbformat": 4,
 "nbformat_minor": 2
}
